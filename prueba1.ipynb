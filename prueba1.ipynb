{
  "nbformat": 4,
  "nbformat_minor": 0,
  "metadata": {
    "colab": {
      "provenance": [],
      "authorship_tag": "ABX9TyPTsg03QX0MfXiSOwpPXU+T",
      "include_colab_link": true
    },
    "kernelspec": {
      "name": "python3",
      "display_name": "Python 3"
    },
    "language_info": {
      "name": "python"
    }
  },
  "cells": [
    {
      "cell_type": "markdown",
      "metadata": {
        "id": "view-in-github",
        "colab_type": "text"
      },
      "source": [
        "<a href=\"https://colab.research.google.com/github/Celacon/Sistema_de_seguridad_AnalisisII/blob/main/prueba1.ipynb\" target=\"_parent\"><img src=\"https://colab.research.google.com/assets/colab-badge.svg\" alt=\"Open In Colab\"/></a>"
      ]
    },
    {
      "cell_type": "code",
      "execution_count": null,
      "metadata": {
        "id": "HtfARfh20Hz7"
      },
      "outputs": [],
      "source": []
    },
    {
      "cell_type": "markdown",
      "source": [
        "***mi primer programa en google colab***"
      ],
      "metadata": {
        "id": "JC4f3_iH3xXR"
      }
    },
    {
      "cell_type": "code",
      "source": [
        "print(\"hola mundo\")"
      ],
      "metadata": {
        "colab": {
          "base_uri": "https://localhost:8080/"
        },
        "id": "O8hO7GDU32TX",
        "outputId": "3ba09258-a68d-4d50-aa6b-5737e59a227d"
      },
      "execution_count": 1,
      "outputs": [
        {
          "output_type": "stream",
          "name": "stdout",
          "text": [
            "hola mundo\n"
          ]
        }
      ]
    },
    {
      "cell_type": "code",
      "source": [
        "edad = 25\n",
        "print(edad)"
      ],
      "metadata": {
        "colab": {
          "base_uri": "https://localhost:8080/"
        },
        "id": "HIjIjL_n4Lk9",
        "outputId": "eb645568-10e4-4427-9613-aeba4a2d9074"
      },
      "execution_count": 3,
      "outputs": [
        {
          "output_type": "stream",
          "name": "stdout",
          "text": [
            "25\n"
          ]
        }
      ]
    },
    {
      "cell_type": "code",
      "source": [
        "nombre = \"Bryant\"\n",
        "nombre"
      ],
      "metadata": {
        "colab": {
          "base_uri": "https://localhost:8080/",
          "height": 36
        },
        "id": "nmE_sfoD4Owz",
        "outputId": "e47a42bd-c4b6-4c34-f0b1-cd086d814f24"
      },
      "execution_count": 4,
      "outputs": [
        {
          "output_type": "execute_result",
          "data": {
            "text/plain": [
              "'Bryant'"
            ],
            "application/vnd.google.colaboratory.intrinsic+json": {
              "type": "string"
            }
          },
          "metadata": {},
          "execution_count": 4
        }
      ]
    },
    {
      "cell_type": "markdown",
      "source": [
        "***Primera prueba***"
      ],
      "metadata": {
        "id": "xY9hcWjL4iyk"
      }
    },
    {
      "cell_type": "code",
      "source": [
        "<img src=\"\"></img>"
      ],
      "metadata": {
        "colab": {
          "base_uri": "https://localhost:8080/",
          "height": 144
        },
        "id": "bhYtzfZV4lkc",
        "outputId": "c65d07da-4466-489c-b08e-9df12c3132c0"
      },
      "execution_count": 6,
      "outputs": [
        {
          "output_type": "error",
          "ename": "SyntaxError",
          "evalue": "invalid syntax (<ipython-input-6-0d120689ae71>, line 1)",
          "traceback": [
            "\u001b[0;36m  File \u001b[0;32m\"<ipython-input-6-0d120689ae71>\"\u001b[0;36m, line \u001b[0;32m1\u001b[0m\n\u001b[0;31m    <img src=\"data:image/png;base64,iVBORw0KGgoAAAANSUhEUgAAAO4AAADTCAMAAACx1N9jAAABpFBMVEX///8fdajNNTQAAACyhjvNMzKxiDvNNTX8///NMjGwiTv7+/vOMjQfdafLNTTNNDL29vbv7++uijvm5uby8vLNLi2cnJypqanf39/JycmNjY3Z2dmEhITR0dGVlZWtra2/v7+vgTBwcHB6enrAwMBjY2PMKSh2dnagoKC2trZoaGiIiIhbW1u1hjgzMzO7aTjNaWm3fDtCQkLu4uFQUFC4djrht7fmxcY5OTmnh0QrKysbGxvYyanx7eKtfim1gTrGRDXp0tLIREPDAADXnZ2/XTbDUzbbpKXWkZDThITk2sUAbKPDq3q2k1LFqXft6trHPT/IUlXUwqPNc3I6dZiOgGDJHRzBVjYALUyZhVYAHTjMW1m7bDcADiNZeoYAUXoAPl8AETTg07rt2t7Sh4ughUuAgWfCWlxoen3Qen8QcLF1fnNRd4sdXYMaR2ccQlUWL0IOGiUQKzoLExgAJjsuPUkAP2QeZpcAACAaGBd/fm5NXm4AUJAAID8aZaUAOGk5NS2auM0AS3jE2OJ8p8F8j55Jh642fqhSaHabudNombmirp9oxSiQAAAgAElEQVR4nO19iV8bV7LusdR7N71IahBoAbE0CBAIGloYm6VlgSSzSchp2xEJjrGHMIk9ccYJN3PvvHtnMu/mvfv+6Vd1WhJis8ViO/n9XIltEKLVX1edqq/q1DmHkM/yWT7LZ/ksn+WzfJbP8ocSYWlp5+Hz+7u7mw3Z3b3//OHOkv6pb+zWZenh893trRCTWk6dkeUUt7W1vft8Z+lT3+Mtyc797S0OgHESx6BwVEIS/AmFOPoComa2Np/vfOp7vaEs7W6jQgFTyEfIrMzMz+9No+ztzc/PrDBcCGAz+CgANLP9/I+qZf3hrrS8DDhAlwyzMj+9tr6qssppUVV1dX1tb35lBZQP/2eWl7d2d+RPfe9XFf3hZgi1iipd2UOgFF0ARDRNyxIDvrCm/wACAHoeIEtgCKk/GuKl3S0YjKitmb3Hq7yosAHRQtECmljNHpWKdR+vmG98wSssYn68R7UMg3lr9w9i1fLDbQ5HqyTNrFGlUlzVUqGYK1gBzXIFIpfyFCXvOZEK66sZNa6Iiro+vRKiOmY2HwqfGst7Rd7damFlRaVhswEz6+gCieQBj31A7IYxixVZyJoafRy5Ut6zTIVXRHV1GnUMrmvr+aeG825Z2uVS4JtCzPQqq7SwUmQPHIeQkslW3RyxVV+lVpGQooVwA+qhLNi5csUzAwE06z0Og9SydP9TQ7pclnYhuoJzml9XFVEEh2RqWguv5xRsYpvWC4Ct+7bMaja85PmPwzJI5MiJuIcWT8eyujaDo3iZu//79FpLuxK6YmZvVVFY0VKzheJRxWzBtQpF0GXWc8rwT1X0lVtw0MB9ax...\n\u001b[0m    ^\u001b[0m\n\u001b[0;31mSyntaxError\u001b[0m\u001b[0;31m:\u001b[0m invalid syntax\n"
          ]
        }
      ]
    },
    {
      "cell_type": "markdown",
      "source": [
        "<img src=\"data:image/png;base64,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\"></img>"
      ],
      "metadata": {
        "id": "DtWz4GtG5UVt"
      }
    }
  ]
}